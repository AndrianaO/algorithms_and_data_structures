{
 "cells": [
  {
   "cell_type": "markdown",
   "metadata": {},
   "source": [
    "# Practice Interview\n",
    "\n",
    "## Objective\n",
    "\n",
    "_*The partner assignment aims to provide participants with the opportunity to practice coding in an interview context. You will analyze your partner's Assignment 1. Moreover, code reviews are common practice in a software development team. This assignment should give you a taste of the code review process.*_\n",
    "\n",
    "## Group Size\n",
    "\n",
    "Each group should have 2 people. You will be assigned a partner\n",
    "\n",
    "## Part 1:\n",
    "\n",
    "You and your partner must share each other's Assignment 1 submission."
   ]
  },
  {
   "cell_type": "markdown",
   "metadata": {},
   "source": [
    "\n",
    "## Part 2:\n",
    "\n",
    "Create a Jupyter Notebook, create 6 of the following headings, and complete the following for your partner's assignment 1:\n",
    "\n",
    "-   Paraphrase the problem in your own words.\n"
   ]
  },
  {
   "cell_type": "markdown",
   "metadata": {},
   "source": [
    "My partner did question 1 about finding the pair of duplicates in Tree. If all the values in Tree are unique the code should return -1, otherwise it needs to return the duplicate value. If there is more than one pair of duplicates, the code should return the one with the closest distance to the root. To be honest, this part of the question confuses me because I do not know the definition of the distance to the root of the duplicate pair. I assume the pair distance is defined by the furthest node in the duplicate pair, not by the closest one. \n"
   ]
  },
  {
   "cell_type": "markdown",
   "metadata": {},
   "source": [
    "\n",
    "-   Create 1 new example that demonstrates you understand the problem. Trace/walkthrough 1 example that your partner made and explain it.\n"
   ]
  },
  {
   "cell_type": "markdown",
   "metadata": {},
   "source": [
    "example = TreeNode(1,TreeNode(2,TreeNode(2),TreeNode(4)),TreeNode(1)), which is basicallly:\n",
    "\n",
    "        1\n",
    "       / \\\n",
    "      2   1\n",
    "     / \\\n",
    "    2   4 \n",
    "\n",
    "The answer should be 1\n",
    "\n",
    "My partner's example is \n",
    "bt1 = TreeNode(3, TreeNode(4, TreeNode(3), TreeNode(1)), TreeNode(2, TreeNode(4), TreeNode(8)))\n",
    "\n",
    "         3\n",
    "       /   \\\n",
    "      4      2\n",
    "     / \\    / \\\n",
    "    3   1  4   8\n",
    "\n",
    "This example has two duplicate pairs with numbers 3 and 4. Since the further duplicate pair values are at the same distance from the root the correct answer should be either 3 or 4 and due to algorithm construction (it starts to check from the left) the first encountered pair is returned. "
   ]
  },
  {
   "cell_type": "markdown",
   "metadata": {},
   "source": [
    "\n",
    "-   Copy the solution your partner wrote. \n"
   ]
  },
  {
   "cell_type": "code",
   "execution_count": 1,
   "metadata": {},
   "outputs": [],
   "source": [
    "from collections import deque\n",
    "\n",
    "class TreeNode:\n",
    "    def __init__(self, val=0, left=None, right=None):\n",
    "        self.val = val\n",
    "        self.left = left\n",
    "        self.right = right\n",
    "\n",
    "def is_duplicate(root: TreeNode) -> int:\n",
    "    if not root:\n",
    "        return -1\n",
    "    \n",
    "    queue = deque([root])  # Initialize a deque with the root node\n",
    "    tree_values = set()    # Set to keep track of visited node values\n",
    "    \n",
    "    while queue:\n",
    "        node = queue.popleft()  # Dequeue the front node\n",
    "        \n",
    "        if node.val in tree_values:\n",
    "            return node.val  # Return the duplicate value found\n",
    "        else:\n",
    "            tree_values.add(node.val)  # Add node value to tree_values set\n",
    "        \n",
    "        # Enqueue left and right child nodes if they exist\n",
    "        if node.left:\n",
    "            queue.append(node.left)\n",
    "        if node.right:\n",
    "            queue.append(node.right)\n",
    "    \n",
    "    return -1  # Return -1 if no duplicates found"
   ]
  },
  {
   "cell_type": "markdown",
   "metadata": {},
   "source": [
    "\n",
    "-   Explain why their solution works in your own words.\n"
   ]
  },
  {
   "cell_type": "markdown",
   "metadata": {},
   "source": [
    "The solution implements the breadth first approach for the tree traversal. It searches Tree level by level. The deque queue is used for storing nodes. The empty set of Tree values is created. The queue is investigated in the while loop: the node is deleted from the left side of the queue. The value of this node is checked whether it is in the set and if yes it is returned. Otherwise it is saved to the set. If the child left node exists it is appended to the queue. The same for the right one. If there is no queue left the code return -1. which means there are no duplicates in the Tree."
   ]
  },
  {
   "cell_type": "markdown",
   "metadata": {},
   "source": [
    "\n",
    "-   Explain the problem’s time and space complexity in your own words.\n"
   ]
  },
  {
   "cell_type": "markdown",
   "metadata": {},
   "source": [
    "The time complexity of this probelm is O(n^2) because we have while loop and inside the loop we check whether the value is in set\n",
    "\n",
    "The space complexity of this problem is O(n)"
   ]
  },
  {
   "cell_type": "markdown",
   "metadata": {},
   "source": [
    "\n",
    "-   Critique your partner's solution, including explanation, and if there is anything that should be adjusted.\n"
   ]
  },
  {
   "cell_type": "markdown",
   "metadata": {},
   "source": [
    "My partner did a good job with the assignment. The code is neat, efficiend and well-focumented. The approach is also great and I do not think that there is a better solution. The code was easy to follow, the examples created were also correct. My only concern is the estimation of the time complexity"
   ]
  },
  {
   "cell_type": "markdown",
   "metadata": {},
   "source": [
    "\n",
    "## Part 3:\n",
    "\n",
    "Please write a 200 word reflection documenting your process from assignment 1, and your presentation and review experience with your partner at the bottom of the Jupyter Notebook under a new heading \"Reflection.\" Again, export this Notebook as pdf.\n"
   ]
  },
  {
   "cell_type": "markdown",
   "metadata": {},
   "source": [
    "### Reflection"
   ]
  },
  {
   "cell_type": "markdown",
   "metadata": {},
   "source": [
    "This assignment was an unusual experience. I was assigned the third question about the missing number in the range. To be honest, I spent a lot of time trying to introduce somehow the Binary Tree in my solution and only after a while I realised that this has nothing to do with the first two questions. The simplest approach I thought of ended actually in the alternative solution section because its time complexity was worse than the second approach I implemented. I also used timeit as it was shown at lectures to check the different approach performances (but I did not include it in the submission). It was also interesting to review my partner's code and to think about the first question. I can confirm that my partner did a great job with the assignment and I could not wish for a better-documented piece of code. I completely agree with my partner's approach and I believe I would do pretty much the same. Also, it was fun to create what I thought was a tricky example and find out that my partner's code was working correctly! Overall, I had a great time with those assignments"
   ]
  },
  {
   "cell_type": "markdown",
   "metadata": {},
   "source": [
    "\n",
    "## Evaluation Criteria\n",
    "\n",
    "We are looking for the similar points as Assignment 1\n",
    "\n",
    "-   Problem is accurately stated\n",
    "\n",
    "-   New example is correct and easily understandable\n",
    "\n",
    "-   Correctness, time, and space complexity of the coding solution\n",
    "\n",
    "-   Clarity in explaining why the solution works, its time and space complexity\n",
    "\n",
    "-   Quality of critique of your partner's assignment, if necessary\n"
   ]
  },
  {
   "cell_type": "markdown",
   "metadata": {},
   "source": [
    "## Submission Information\n",
    "\n",
    "🚨 **Please review our [Assignment Submission Guide](https://github.com/UofT-DSI/onboarding/blob/main/onboarding_documents/submissions.md)** 🚨 for detailed instructions on how to format, branch, and submit your work. Following these guidelines is crucial for your submissions to be evaluated correctly.\n",
    "\n",
    "### Submission Parameters:\n",
    "* Submission Due Date: `HH:MM AM/PM - DD/MM/YYYY`\n",
    "* The branch name for your repo should be: `assignment-2`\n",
    "* What to submit for this assignment:\n",
    "    * This Jupyter Notebook (assignment_2.ipynb) should be populated and should be the only change in your pull request.\n",
    "* What the pull request link should look like for this assignment: `https://github.com/<your_github_username>/algorithms_and_data_structures/pull/<pr_id>`\n",
    "    * Open a private window in your browser. Copy and paste the link to your pull request into the address bar. Make sure you can see your pull request properly. This helps the technical facilitator and learning support staff review your submission easily.\n",
    "\n",
    "Checklist:\n",
    "- [ ] Created a branch with the correct naming convention.\n",
    "- [ ] Ensured that the repository is public.\n",
    "- [ ] Reviewed the PR description guidelines and adhered to them.\n",
    "- [ ] Verify that the link is accessible in a private browser window.\n",
    "\n",
    "If you encounter any difficulties or have questions, please don't hesitate to reach out to our team via our Slack at `#cohort-3-help`. Our Technical Facilitators and Learning Support staff are here to help you navigate any challenges.\n"
   ]
  }
 ],
 "metadata": {
  "kernelspec": {
   "display_name": "dsi_participant",
   "language": "python",
   "name": "python3"
  },
  "language_info": {
   "codemirror_mode": {
    "name": "ipython",
    "version": 3
   },
   "file_extension": ".py",
   "mimetype": "text/x-python",
   "name": "python",
   "nbconvert_exporter": "python",
   "pygments_lexer": "ipython3",
   "version": "3.9.18"
  }
 },
 "nbformat": 4,
 "nbformat_minor": 2
}
